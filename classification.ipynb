{
 "cells": [
  {
   "cell_type": "markdown",
   "metadata": {
    "papermill": {
     "duration": 0.022195,
     "end_time": "2019-10-17T21:20:14.984385",
     "exception": false,
     "start_time": "2019-10-17T21:20:14.962190",
     "status": "completed"
    },
    "tags": []
   },
   "source": [
    "# Node Classification Task"
   ]
  },
  {
   "cell_type": "markdown",
   "metadata": {
    "papermill": {
     "duration": 0.014032,
     "end_time": "2019-10-17T21:20:15.012075",
     "exception": false,
     "start_time": "2019-10-17T21:20:14.998043",
     "status": "completed"
    },
    "tags": []
   },
   "source": [
    "Note: Models are cached after the first run and only training/testing is run. Delete the model files in `out/.../model`directories to force re-run."
   ]
  },
  {
   "cell_type": "code",
   "execution_count": 1,
   "metadata": {
    "papermill": {
     "duration": 2.823309,
     "end_time": "2019-10-17T21:20:17.849718",
     "exception": false,
     "start_time": "2019-10-17T21:20:15.026409",
     "status": "completed"
    },
    "tags": []
   },
   "outputs": [],
   "source": [
    "# Imports\n",
    "from impl.run import run\n",
    "from impl.main import Options\n",
    "from impl.model.node2vec import Node2Vec, MethodOpts\n",
    "from impl.model.node2vec_jumps import Node2VecJumps\n",
    "from impl.model.node2vec_hubs import Node2VecHubs\n",
    "from impl.utils import set_debug\n",
    "\n",
    "# Enabling verbose logging\n",
    "set_debug(False, False)\n",
    "\n",
    "# Create necessary directories\n",
    "!mkdir -p out/default/model\n",
    "!mkdir -p out/jumps/model\n",
    "!mkdir -p out/hubs/model"
   ]
  },
  {
   "cell_type": "markdown",
   "metadata": {
    "papermill": {
     "duration": 0.012692,
     "end_time": "2019-10-17T21:20:17.881343",
     "exception": false,
     "start_time": "2019-10-17T21:20:17.868651",
     "status": "completed"
    },
    "tags": []
   },
   "source": [
    "## node2vec Reproduction"
   ]
  },
  {
   "cell_type": "code",
   "execution_count": 2,
   "metadata": {
    "papermill": {
     "duration": 2400.10595,
     "end_time": "2019-10-17T22:00:18.000305",
     "exception": false,
     "start_time": "2019-10-17T21:20:17.894355",
     "status": "completed"
    },
    "tags": []
   },
   "outputs": [
    {
     "name": "stderr",
     "output_type": "stream",
     "text": [
      "100%|██████████| 10312/10312 [00:03<00:00, 3147.09it/s]\n",
      "100%|██████████| 1599/1599 [23:46<00:00,  1.12it/s] \n",
      "Walk 1/10: 100%|██████████| 10312/10312 [01:31<00:00, 113.10it/s]\n",
      "Walk 2/10: 100%|██████████| 10312/10312 [01:29<00:00, 115.70it/s]\n",
      "Walk 3/10: 100%|██████████| 10312/10312 [01:27<00:00, 117.48it/s]\n",
      "Walk 4/10: 100%|██████████| 10312/10312 [01:26<00:00, 119.42it/s]\n",
      "Walk 5/10: 100%|██████████| 10312/10312 [01:27<00:00, 118.05it/s]\n",
      "Walk 6/10: 100%|██████████| 10312/10312 [01:27<00:00, 117.61it/s]\n",
      "Walk 7/10: 100%|██████████| 10312/10312 [01:26<00:00, 119.28it/s]\n",
      "Walk 8/10: 100%|██████████| 10312/10312 [01:28<00:00, 116.76it/s]\n",
      "Walk 9/10: 100%|██████████| 10312/10312 [01:28<00:00, 117.03it/s]\n",
      "Walk 10/10: 100%|██████████| 10312/10312 [01:28<00:00, 115.94it/s]\n",
      "100%|██████████| 103120/103120 [00:02<00:00, 43163.57it/s]\n",
      "100%|██████████| 10/10 [00:28<00:00,  2.83s/it]\n"
     ]
    },
    {
     "name": "stdout",
     "output_type": "stream",
     "text": [
      "node2vec {'micro': {'mean': 39.931672856907454, 'std': 0.48235237604735176}, 'macro': {'mean': 26.71829166025585, 'std': 0.7208215511459021}, 'samples': {'mean': 40.219986003781585, 'std': 0.5139329329732457}, 'weighted': {'mean': 37.44890197749279, 'std': 0.41153820792880275}}\n"
     ]
    }
   ],
   "source": [
    "# Paper\n",
    "print(\"node2vec\", run(\n",
    "    Options(\n",
    "        input='data/datasets/blogcatalog/bc_adjlist.txt',\n",
    "        graph_format='adjlist',\n",
    "        weighted=False,\n",
    "        output=f'out/default/model/blogcatalog-p0.25-q0.25.model',\n",
    "        label_file='data/datasets/blogcatalog/bc_labels.txt',\n",
    "        # 50% training/test split\n",
    "        training_ratio=0.5,\n",
    "        # average score over 10 iterations\n",
    "        clf_iterations=10\n",
    "    ),\n",
    "    Node2Vec(\n",
    "        MethodOpts(\n",
    "            dim=128,\n",
    "            walk_length=80,\n",
    "            num_walks=10,\n",
    "            window=10\n",
    "        ),\n",
    "        p=0.25,\n",
    "        q=0.25\n",
    "    ),\n",
    "    draw=False\n",
    "))"
   ]
  },
  {
   "cell_type": "code",
   "execution_count": 3,
   "metadata": {
    "papermill": {
     "duration": 2503.362325,
     "end_time": "2019-10-17T22:42:03.663617",
     "exception": false,
     "start_time": "2019-10-17T22:00:20.301292",
     "status": "completed"
    },
    "tags": []
   },
   "outputs": [
    {
     "name": "stderr",
     "output_type": "stream",
     "text": [
      "100%|██████████| 10312/10312 [00:02<00:00, 3739.51it/s]\n",
      "100%|██████████| 1599/1599 [22:45<00:00,  1.17it/s]\n",
      "Walk 1/10: 100%|██████████| 10312/10312 [01:46<00:00, 97.19it/s] \n",
      "Walk 2/10: 100%|██████████| 10312/10312 [01:43<00:00, 99.83it/s] \n",
      "Walk 3/10: 100%|██████████| 10312/10312 [01:43<00:00, 99.28it/s] \n",
      "Walk 4/10: 100%|██████████| 10312/10312 [01:41<00:00, 101.23it/s]\n",
      "Walk 5/10: 100%|██████████| 10312/10312 [01:43<00:00, 99.26it/s] \n",
      "Walk 6/10: 100%|██████████| 10312/10312 [01:42<00:00, 100.41it/s]\n",
      "Walk 7/10: 100%|██████████| 10312/10312 [01:41<00:00, 101.32it/s]\n",
      "Walk 8/10: 100%|██████████| 10312/10312 [01:44<00:00, 98.34it/s] \n",
      "Walk 9/10: 100%|██████████| 10312/10312 [01:43<00:00, 99.32it/s] \n",
      "Walk 10/10: 100%|██████████| 10312/10312 [01:42<00:00, 100.38it/s]\n",
      "100%|██████████| 103120/103120 [00:02<00:00, 43042.82it/s]\n",
      "100%|██████████| 10/10 [00:31<00:00,  3.12s/it]\n"
     ]
    },
    {
     "name": "stdout",
     "output_type": "stream",
     "text": [
      "DeepWalk {'micro': {'mean': 39.81677529262775, 'std': 0.31829090312943686}, 'macro': {'mean': 25.854255277356902, 'std': 0.5878904931145543}, 'samples': {'mean': 40.253212399401306, 'std': 0.2812475162314243}, 'weighted': {'mean': 37.14310620691002, 'std': 0.35817577527732636}}\n"
     ]
    }
   ],
   "source": [
    "# DeepWalk\n",
    "print(\"DeepWalk\", run(\n",
    "    Options(\n",
    "        input='data/datasets/blogcatalog/bc_adjlist.txt',\n",
    "        graph_format='adjlist',\n",
    "        weighted=False,\n",
    "        output=f'out/default/model/blogcatalog-p1-q1.model',\n",
    "        label_file='data/datasets/blogcatalog/bc_labels.txt',\n",
    "        # 50% training/test split\n",
    "        training_ratio=0.5,\n",
    "        # average score over 10 iterations\n",
    "        clf_iterations=10\n",
    "    ),\n",
    "    Node2Vec(\n",
    "        MethodOpts(\n",
    "            dim=128,\n",
    "            walk_length=80,\n",
    "            num_walks=10,\n",
    "            window=10\n",
    "        ),\n",
    "        p=1,\n",
    "        q=1\n",
    "    ),\n",
    "    draw=False\n",
    "))"
   ]
  },
  {
   "cell_type": "markdown",
   "metadata": {
    "papermill": {
     "duration": 5.023206,
     "end_time": "2019-10-17T22:42:13.666197",
     "exception": false,
     "start_time": "2019-10-17T22:42:08.642991",
     "status": "completed"
    },
    "tags": []
   },
   "source": [
    "## Jump Probability"
   ]
  },
  {
   "cell_type": "code",
   "execution_count": 4,
   "metadata": {
    "papermill": {
     "duration": 5.190295,
     "end_time": "2019-10-17T22:42:23.883979",
     "exception": false,
     "start_time": "2019-10-17T22:42:18.693684",
     "status": "completed"
    },
    "tags": []
   },
   "outputs": [],
   "source": [
    "def run_jump(prob):\n",
    "    return run(\n",
    "        Options(\n",
    "            input='data/datasets/blogcatalog/bc_adjlist.txt',\n",
    "            graph_format='adjlist',\n",
    "            weighted=False,\n",
    "            output=f'out/jumps/model/blogcatalog-p{prob}.model',\n",
    "            label_file='data/datasets/blogcatalog/bc_labels.txt',\n",
    "            # 50% training/test split\n",
    "            training_ratio=0.5,\n",
    "            # average score over 10 iterations\n",
    "            clf_iterations=10\n",
    "        ),\n",
    "        Node2VecJumps(\n",
    "            MethodOpts(\n",
    "                dim=128,\n",
    "                walk_length=80,\n",
    "                num_walks=10,\n",
    "                window=10\n",
    "            ),\n",
    "            jump_prob=prob\n",
    "        ),\n",
    "        draw=False\n",
    "    );"
   ]
  },
  {
   "cell_type": "code",
   "execution_count": 5,
   "metadata": {
    "papermill": {
     "duration": 2942.861803,
     "end_time": "2019-10-17T23:31:31.758402",
     "exception": false,
     "start_time": "2019-10-17T22:42:28.896599",
     "status": "completed"
    },
    "tags": []
   },
   "outputs": [
    {
     "name": "stderr",
     "output_type": "stream",
     "text": [
      "100%|██████████| 10312/10312 [00:03<00:00, 3361.66it/s]\n",
      "100%|██████████| 1599/1599 [23:16<00:00,  1.14it/s]\n",
      "Walk 1/10: 100%|██████████| 10312/10312 [02:26<00:00, 70.27it/s]\n",
      "Walk 2/10: 100%|██████████| 10312/10312 [02:22<00:00, 72.37it/s]\n",
      "Walk 3/10: 100%|██████████| 10312/10312 [02:21<00:00, 72.79it/s]\n",
      "Walk 4/10: 100%|██████████| 10312/10312 [02:26<00:00, 70.31it/s]\n",
      "Walk 5/10: 100%|██████████| 10312/10312 [02:25<00:00, 70.92it/s]\n",
      "Walk 6/10: 100%|██████████| 10312/10312 [02:26<00:00, 70.52it/s]\n",
      "Walk 7/10: 100%|██████████| 10312/10312 [02:26<00:00, 70.41it/s]\n",
      "Walk 8/10: 100%|██████████| 10312/10312 [02:24<00:00, 71.41it/s]\n",
      "Walk 9/10: 100%|██████████| 10312/10312 [02:24<00:00, 71.30it/s]\n",
      "Walk 10/10: 100%|██████████| 10312/10312 [02:23<00:00, 71.92it/s]\n",
      "100%|██████████| 103120/103120 [00:01<00:00, 82021.26it/s]\n",
      "100%|██████████| 10/10 [00:21<00:00,  2.11s/it]\n"
     ]
    },
    {
     "name": "stdout",
     "output_type": "stream",
     "text": [
      "100% {'micro': {'mean': 14.029164457232202, 'std': 0.2833465421423977}, 'macro': {'mean': 3.6372694646458035, 'std': 0.14208599007204317}, 'samples': {'mean': 12.132061429433424, 'std': 0.318429680042795}, 'weighted': {'mean': 8.8956095693521, 'std': 0.16742099375806044}}\n"
     ]
    }
   ],
   "source": [
    "print(\"100%\", run_jump(1))"
   ]
  },
  {
   "cell_type": "code",
   "execution_count": 6,
   "metadata": {
    "papermill": {
     "duration": 2741.186444,
     "end_time": "2019-10-18T00:17:21.994470",
     "exception": false,
     "start_time": "2019-10-17T23:31:40.808026",
     "status": "completed"
    },
    "tags": []
   },
   "outputs": [
    {
     "name": "stderr",
     "output_type": "stream",
     "text": [
      "100%|██████████| 10312/10312 [00:03<00:00, 3195.77it/s]\n",
      "100%|██████████| 1599/1599 [22:46<00:00,  1.17it/s]\n",
      "Walk 1/10: 100%|██████████| 10312/10312 [02:04<00:00, 82.93it/s]\n",
      "Walk 2/10: 100%|██████████| 10312/10312 [02:03<00:00, 83.23it/s]\n",
      "Walk 3/10: 100%|██████████| 10312/10312 [02:04<00:00, 82.66it/s]\n",
      "Walk 4/10: 100%|██████████| 10312/10312 [02:06<00:00, 81.52it/s]\n",
      "Walk 5/10: 100%|██████████| 10312/10312 [02:07<00:00, 81.04it/s]\n",
      "Walk 6/10: 100%|██████████| 10312/10312 [02:05<00:00, 82.39it/s]\n",
      "Walk 7/10: 100%|██████████| 10312/10312 [02:07<00:00, 80.62it/s]\n",
      "Walk 8/10: 100%|██████████| 10312/10312 [02:06<00:00, 81.21it/s]\n",
      "Walk 9/10: 100%|██████████| 10312/10312 [02:05<00:00, 81.85it/s]\n",
      "Walk 10/10: 100%|██████████| 10312/10312 [02:04<00:00, 82.82it/s]\n",
      "100%|██████████| 103120/103120 [00:02<00:00, 45467.27it/s]\n",
      "100%|██████████| 10/10 [00:27<00:00,  2.74s/it]\n"
     ]
    },
    {
     "name": "stdout",
     "output_type": "stream",
     "text": [
      "25% {'micro': {'mean': 38.8560760702678, 'std': 0.3685043331901167}, 'macro': {'mean': 25.270405722526892, 'std': 0.6807124092403685}, 'samples': {'mean': 39.12787928604453, 'std': 0.3997904776008616}, 'weighted': {'mean': 36.12155375875807, 'std': 0.33320896774680475}}\n"
     ]
    }
   ],
   "source": [
    "print(\"25%\", run_jump(0.25))"
   ]
  },
  {
   "cell_type": "code",
   "execution_count": 7,
   "metadata": {
    "papermill": {
     "duration": 2710.631572,
     "end_time": "2019-10-18T01:02:44.445422",
     "exception": false,
     "start_time": "2019-10-18T00:17:33.813850",
     "status": "completed"
    },
    "tags": []
   },
   "outputs": [
    {
     "name": "stderr",
     "output_type": "stream",
     "text": [
      "100%|██████████| 10312/10312 [00:03<00:00, 2933.00it/s]\n",
      "100%|██████████| 1599/1599 [23:35<00:00,  1.13it/s]\n",
      "Walk 1/10: 100%|██████████| 10312/10312 [01:55<00:00, 88.99it/s]\n",
      "Walk 2/10: 100%|██████████| 10312/10312 [01:57<00:00, 87.75it/s] \n",
      "Walk 3/10: 100%|██████████| 10312/10312 [01:56<00:00, 88.33it/s]\n",
      "Walk 4/10: 100%|██████████| 10312/10312 [01:56<00:00, 88.24it/s]\n",
      "Walk 5/10: 100%|██████████| 10312/10312 [01:57<00:00, 88.07it/s]\n",
      "Walk 6/10: 100%|██████████| 10312/10312 [01:55<00:00, 89.54it/s] \n",
      "Walk 7/10: 100%|██████████| 10312/10312 [01:55<00:00, 89.55it/s]\n",
      "Walk 8/10: 100%|██████████| 10312/10312 [01:57<00:00, 87.56it/s] \n",
      "Walk 9/10: 100%|██████████| 10312/10312 [01:56<00:00, 88.56it/s]\n",
      "Walk 10/10: 100%|██████████| 10312/10312 [01:59<00:00, 86.35it/s]\n",
      "100%|██████████| 103120/103120 [00:02<00:00, 43604.80it/s]\n",
      "100%|██████████| 10/10 [00:30<00:00,  3.01s/it]\n"
     ]
    },
    {
     "name": "stdout",
     "output_type": "stream",
     "text": [
      "10% {'micro': {'mean': 39.0712906233048, 'std': 0.1892082759162989}, 'macro': {'mean': 25.759881337367155, 'std': 0.5509774229965495}, 'samples': {'mean': 39.552068325390664, 'std': 0.25760288073733206}, 'weighted': {'mean': 36.515559554915406, 'std': 0.27786419696709297}}\n"
     ]
    }
   ],
   "source": [
    "print(\"10%\", run_jump(0.1))"
   ]
  },
  {
   "cell_type": "markdown",
   "metadata": {
    "papermill": {
     "duration": 14.752554,
     "end_time": "2019-10-18T01:03:13.826967",
     "exception": false,
     "start_time": "2019-10-18T01:02:59.074413",
     "status": "completed"
    },
    "tags": []
   },
   "source": [
    "## Hub Attention"
   ]
  },
  {
   "cell_type": "code",
   "execution_count": 8,
   "metadata": {
    "papermill": {
     "duration": 15.125221,
     "end_time": "2019-10-18T01:03:43.530459",
     "exception": false,
     "start_time": "2019-10-18T01:03:28.405238",
     "status": "completed"
    },
    "tags": []
   },
   "outputs": [],
   "source": [
    "def run_hubs(h):\n",
    "    return run(\n",
    "        Options(\n",
    "            input='data/datasets/blogcatalog/bc_adjlist.txt',\n",
    "            graph_format='adjlist',\n",
    "            weighted=False,\n",
    "            output=f'out/hubs/model/blogcatalog-h{h}.model',\n",
    "            label_file='data/datasets/blogcatalog/bc_labels.txt',\n",
    "            # 50% training/test split\n",
    "            training_ratio=0.5,\n",
    "            # average score over 10 iterations\n",
    "            clf_iterations=10\n",
    "        ),\n",
    "        Node2VecHubs(\n",
    "            MethodOpts(\n",
    "                dim=128,\n",
    "                walk_length=80,\n",
    "                num_walks=10,\n",
    "                window=10\n",
    "            ),\n",
    "            h=h\n",
    "        ),\n",
    "        draw=False\n",
    "    );"
   ]
  },
  {
   "cell_type": "code",
   "execution_count": 9,
   "metadata": {
    "papermill": {
     "duration": 2799.173198,
     "end_time": "2019-10-18T01:50:37.499051",
     "exception": false,
     "start_time": "2019-10-18T01:03:58.325853",
     "status": "completed"
    },
    "tags": []
   },
   "outputs": [
    {
     "name": "stderr",
     "output_type": "stream",
     "text": [
      "100%|██████████| 10312/10312 [00:03<00:00, 3270.19it/s]\n",
      "100%|██████████| 1599/1599 [24:12<00:00,  1.10it/s] \n",
      "Walk 1/10: 100%|██████████| 10312/10312 [02:01<00:00, 84.85it/s]\n",
      "Walk 2/10: 100%|██████████| 10312/10312 [02:01<00:00, 84.92it/s]\n",
      "Walk 3/10: 100%|██████████| 10312/10312 [01:59<00:00, 85.94it/s]\n",
      "Walk 4/10: 100%|██████████| 10312/10312 [02:02<00:00, 84.48it/s]\n",
      "Walk 5/10: 100%|██████████| 10312/10312 [02:00<00:00, 85.68it/s]\n",
      "Walk 6/10: 100%|██████████| 10312/10312 [02:02<00:00, 84.41it/s]\n",
      "Walk 7/10: 100%|██████████| 10312/10312 [02:02<00:00, 84.42it/s] \n",
      "Walk 8/10: 100%|██████████| 10312/10312 [02:00<00:00, 85.91it/s]\n",
      "Walk 9/10: 100%|██████████| 10312/10312 [01:59<00:00, 86.18it/s]\n",
      "Walk 10/10: 100%|██████████| 10312/10312 [02:00<00:00, 85.34it/s]\n",
      "100%|██████████| 103120/103120 [00:02<00:00, 48564.84it/s]\n",
      "100%|██████████| 10/10 [00:30<00:00,  3.10s/it]\n"
     ]
    },
    {
     "name": "stdout",
     "output_type": "stream",
     "text": [
      "0.5 {'micro': {'mean': 37.606309963141626, 'std': 0.42885424605935235}, 'macro': {'mean': 23.37031759298582, 'std': 0.5857561957478299}, 'samples': {'mean': 37.8155863186895, 'std': 0.4956146076182944}, 'weighted': {'mean': 34.69136037745291, 'std': 0.4034720230292449}}\n"
     ]
    }
   ],
   "source": [
    "print(\"0.5\", run_hubs(0.5))"
   ]
  },
  {
   "cell_type": "code",
   "execution_count": 10,
   "metadata": {
    "papermill": {
     "duration": 2728.168302,
     "end_time": "2019-10-18T02:36:23.711966",
     "exception": false,
     "start_time": "2019-10-18T01:50:55.543664",
     "status": "completed"
    },
    "tags": []
   },
   "outputs": [
    {
     "name": "stderr",
     "output_type": "stream",
     "text": [
      "100%|██████████| 10312/10312 [00:03<00:00, 2949.06it/s]\n",
      "100%|██████████| 1599/1599 [23:59<00:00,  1.11it/s] \n",
      "Walk 1/10: 100%|██████████| 10312/10312 [01:54<00:00, 89.81it/s] \n",
      "Walk 2/10: 100%|██████████| 10312/10312 [01:54<00:00, 90.33it/s] \n",
      "Walk 3/10: 100%|██████████| 10312/10312 [01:56<00:00, 88.77it/s] \n",
      "Walk 4/10: 100%|██████████| 10312/10312 [01:54<00:00, 90.05it/s] \n",
      "Walk 5/10: 100%|██████████| 10312/10312 [01:55<00:00, 89.61it/s] \n",
      "Walk 6/10: 100%|██████████| 10312/10312 [01:53<00:00, 91.08it/s] \n",
      "Walk 7/10: 100%|██████████| 10312/10312 [01:53<00:00, 90.90it/s]\n",
      "Walk 8/10: 100%|██████████| 10312/10312 [01:53<00:00, 90.94it/s] \n",
      "Walk 9/10: 100%|██████████| 10312/10312 [01:53<00:00, 90.51it/s] \n",
      "Walk 10/10: 100%|██████████| 10312/10312 [01:52<00:00, 91.60it/s] \n",
      "100%|██████████| 103120/103120 [00:02<00:00, 43650.33it/s]\n",
      "100%|██████████| 10/10 [00:31<00:00,  3.12s/it]\n"
     ]
    },
    {
     "name": "stdout",
     "output_type": "stream",
     "text": [
      "0.75 {'micro': {'mean': 38.87139830414522, 'std': 0.42201462727447403}, 'macro': {'mean': 25.214078187040442, 'std': 0.6374166428889497}, 'samples': {'mean': 39.281497088808955, 'std': 0.4647289383088701}, 'weighted': {'mean': 36.17185214274774, 'std': 0.4110250674967426}}\n"
     ]
    }
   ],
   "source": [
    "print(\"0.75\", run_hubs(0.75))"
   ]
  },
  {
   "cell_type": "code",
   "execution_count": 11,
   "metadata": {
    "papermill": {
     "duration": 2279.619354,
     "end_time": "2019-10-18T03:14:44.611653",
     "exception": false,
     "start_time": "2019-10-18T02:36:44.992299",
     "status": "completed"
    },
    "tags": []
   },
   "outputs": [
    {
     "name": "stderr",
     "output_type": "stream",
     "text": [
      "100%|██████████| 10312/10312 [00:03<00:00, 3295.31it/s]\n",
      "100%|██████████| 1599/1599 [23:57<00:00,  1.11it/s] \n",
      "Walk 1/10: 100%|██████████| 10312/10312 [01:12<00:00, 143.09it/s]\n",
      "Walk 2/10: 100%|██████████| 10312/10312 [01:08<00:00, 151.28it/s]\n",
      "Walk 3/10: 100%|██████████| 10312/10312 [01:10<00:00, 146.82it/s]\n",
      "Walk 4/10: 100%|██████████| 10312/10312 [01:10<00:00, 146.21it/s]\n",
      "Walk 5/10: 100%|██████████| 10312/10312 [01:09<00:00, 149.04it/s]\n",
      "Walk 6/10: 100%|██████████| 10312/10312 [01:08<00:00, 150.35it/s]\n",
      "Walk 7/10: 100%|██████████| 10312/10312 [01:09<00:00, 149.39it/s]\n",
      "Walk 8/10: 100%|██████████| 10312/10312 [01:09<00:00, 148.92it/s]\n",
      "Walk 9/10: 100%|██████████| 10312/10312 [01:09<00:00, 147.91it/s]\n",
      "Walk 10/10: 100%|██████████| 10312/10312 [01:10<00:00, 145.99it/s]\n",
      "100%|██████████| 103120/103120 [00:02<00:00, 43592.74it/s]\n",
      "100%|██████████| 10/10 [00:31<00:00,  3.14s/it]\n"
     ]
    },
    {
     "name": "stdout",
     "output_type": "stream",
     "text": [
      "4 {'micro': {'mean': 40.132530273229435, 'std': 0.24921085709991725}, 'macro': {'mean': 27.436664395335065, 'std': 0.6401859612035168}, 'samples': {'mean': 40.64996202185884, 'std': 0.24674019060766236}, 'weighted': {'mean': 37.807915497339614, 'std': 0.2394244820882224}}\n"
     ]
    }
   ],
   "source": [
    "print(\"4\", run_hubs(4))"
   ]
  },
  {
   "cell_type": "code",
   "execution_count": 12,
   "metadata": {
    "papermill": {
     "duration": 2131.878662,
     "end_time": "2019-10-18T03:50:38.537364",
     "exception": false,
     "start_time": "2019-10-18T03:15:06.658702",
     "status": "completed"
    },
    "tags": []
   },
   "outputs": [
    {
     "name": "stderr",
     "output_type": "stream",
     "text": [
      "100%|██████████| 10312/10312 [00:03<00:00, 3007.05it/s]\n",
      "100%|██████████| 1599/1599 [23:55<00:00,  1.11it/s] \n",
      "Walk 1/10: 100%|██████████| 10312/10312 [00:54<00:00, 188.47it/s]\n",
      "Walk 2/10: 100%|██████████| 10312/10312 [00:54<00:00, 189.08it/s]\n",
      "Walk 3/10: 100%|██████████| 10312/10312 [00:53<00:00, 192.42it/s]\n",
      "Walk 4/10: 100%|██████████| 10312/10312 [00:54<00:00, 188.98it/s]\n",
      "Walk 5/10: 100%|██████████| 10312/10312 [00:56<00:00, 182.92it/s]\n",
      "Walk 6/10: 100%|██████████| 10312/10312 [00:53<00:00, 193.19it/s]\n",
      "Walk 7/10: 100%|██████████| 10312/10312 [00:54<00:00, 190.09it/s]\n",
      "Walk 8/10: 100%|██████████| 10312/10312 [00:54<00:00, 188.26it/s]\n",
      "Walk 9/10: 100%|██████████| 10312/10312 [00:53<00:00, 192.44it/s]\n",
      "Walk 10/10: 100%|██████████| 10312/10312 [00:54<00:00, 189.59it/s]\n",
      "100%|██████████| 103120/103120 [00:02<00:00, 45292.01it/s]\n",
      "100%|██████████| 10/10 [00:30<00:00,  3.06s/it]\n"
     ]
    },
    {
     "name": "stdout",
     "output_type": "stream",
     "text": [
      "8 {'micro': {'mean': 39.7281862974614, 'std': 0.36185431210230906}, 'macro': {'mean': 27.167915040932705, 'std': 0.5207322840708081}, 'samples': {'mean': 40.08238066131782, 'std': 0.30873271266637325}, 'weighted': {'mean': 37.47630973710576, 'std': 0.33074664332482645}}\n"
     ]
    }
   ],
   "source": [
    "print(\"8\", run_hubs(8))"
   ]
  },
  {
   "cell_type": "code",
   "execution_count": 13,
   "metadata": {
    "papermill": {
     "duration": 2111.595323,
     "end_time": "2019-10-18T04:26:13.545764",
     "exception": false,
     "start_time": "2019-10-18T03:51:01.950441",
     "status": "completed"
    },
    "tags": []
   },
   "outputs": [
    {
     "name": "stderr",
     "output_type": "stream",
     "text": [
      "100%|██████████| 10312/10312 [00:02<00:00, 3468.25it/s]\n",
      "100%|██████████| 1599/1599 [24:04<00:00,  1.11it/s] \n",
      "Walk 1/10: 100%|██████████| 10312/10312 [00:54<00:00, 190.75it/s]\n",
      "Walk 2/10: 100%|██████████| 10312/10312 [00:50<00:00, 202.34it/s]\n",
      "Walk 3/10: 100%|██████████| 10312/10312 [00:50<00:00, 206.17it/s]\n",
      "Walk 4/10: 100%|██████████| 10312/10312 [00:51<00:00, 200.53it/s]\n",
      "Walk 5/10: 100%|██████████| 10312/10312 [00:53<00:00, 194.49it/s]\n",
      "Walk 6/10: 100%|██████████| 10312/10312 [00:49<00:00, 206.31it/s]\n",
      "Walk 7/10: 100%|██████████| 10312/10312 [00:49<00:00, 206.97it/s]\n",
      "Walk 8/10: 100%|██████████| 10312/10312 [00:51<00:00, 199.21it/s]\n",
      "Walk 9/10: 100%|██████████| 10312/10312 [00:50<00:00, 204.01it/s]\n",
      "Walk 10/10: 100%|██████████| 10312/10312 [00:51<00:00, 199.57it/s]\n",
      "100%|██████████| 103120/103120 [00:02<00:00, 46405.04it/s]\n",
      "100%|██████████| 10/10 [00:30<00:00,  3.07s/it]\n"
     ]
    },
    {
     "name": "stdout",
     "output_type": "stream",
     "text": [
      "10 {'micro': {'mean': 39.54918541828435, 'std': 0.2629806249031938}, 'macro': {'mean': 27.391148328426407, 'std': 0.5532794340473787}, 'samples': {'mean': 40.04806767665572, 'std': 0.2601776321933875}, 'weighted': {'mean': 37.37094240776509, 'std': 0.21900975627170766}}\n"
     ]
    }
   ],
   "source": [
    "print(\"10\", run_hubs(10))"
   ]
  }
 ],
 "metadata": {
  "kernelspec": {
   "display_name": "Python 3",
   "language": "python",
   "name": "python3"
  },
  "language_info": {
   "codemirror_mode": {
    "name": "ipython",
    "version": 3
   },
   "file_extension": ".py",
   "mimetype": "text/x-python",
   "name": "python",
   "nbconvert_exporter": "python",
   "pygments_lexer": "ipython3",
   "version": "3.6.6"
  },
  "papermill": {
   "duration": 25591.569821,
   "end_time": "2019-10-18T04:26:45.353576",
   "environment_variables": {},
   "exception": null,
   "input_path": "./classification.ipynb",
   "output_path": "./classification.run.ipynb",
   "parameters": {},
   "start_time": "2019-10-17T21:20:13.783755",
   "version": "1.2.0"
  }
 },
 "nbformat": 4,
 "nbformat_minor": 2
}
